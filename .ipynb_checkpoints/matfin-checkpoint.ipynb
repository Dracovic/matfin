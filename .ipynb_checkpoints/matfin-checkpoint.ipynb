{
 "cells": [
  {
   "cell_type": "markdown",
   "id": "f8c2154e-98de-4490-a1c6-ae29de606c67",
   "metadata": {},
   "source": [
    "# Matemáticas Financieras\n",
    "\n",
    "\n",
    "## 1.6 Cantidad base, tasa porcentual y cantidad de porcentaje\n",
    "\n",
    "Para mejor entender porcentajes notamos 3 vairables:\n",
    "* La base ($B$), que es la cantidad total\n",
    "* La cantidad de porcentaje ($P$), que la cantidad parcial resultante de aplicar el porcentaje\n",
    "* La tasa porcentual ($R$) a la base\n",
    "\n",
    "$$P = B \\cdot R$$\n",
    "\n",
    "Ejemplo 1.6.1 Si una persona paga una tasa de 28% de impuestos en su ingreso de \\$12,850, pagaria \\$3,598 de impuesto.\n",
    "\n",
    "$B$ = 12,85, $R$ = 0.28 y $P$ es la cantidad de impuestos, que se calcularía\n",
    "$$P = 12,850 \\cdot 0.28 = 3,598$$\n",
    "También se pueden obtener $B$ y $R$ en término de las otras variables:\n",
    "$$B= \\frac{P}{R} \\qquad R= \\frac{P}{B}$$"
   ]
  },
  {
   "cell_type": "markdown",
   "id": "6dd4a801-ab8f-469d-9c5a-d17d8e610ef1",
   "metadata": {},
   "source": [
    "## 1.7 Tasa\n",
    "Una tasa es una comparación relativa entre dos valores. Matemáticamente, una tasa es representado como el coeficiente de dos números donde el número de arriba es llamado el **rimer término** y el de abajo el **segundo término**.\n",
    "$$\\frac{12}{36} = \\frac{1}{3} \\quad 1:3 \\qquad \\frac{36}{12} = \\frac{3}{1} \\quad 3:1 \\qquad A/B \\text{ or } A : B$$\n",
    "También $A:B:C:D$ para la tasa de $A$ a $B$, $B$ a $C$ y $C$ a $D$ $\\qquad \\frac{A}{B} : \\frac{B}{C} : \\frac{C}{D}$\n",
    "\n",
    "## 1.8 Proporción\n",
    "Una proporción define la igualdad entre dos tasas, como $A : B = C : D$, que se lee como $A$ es a $B$ como $C$ es a $D$. Los términos externos, $A$ y $D$ se llaman **extremos** y los internos, $B$ y $C$ se llaman **medias**.\n",
    "Escribir la proporción en una ecuación de tasas lleva a otra ecuación, obtenida por la muliplicación cruzada de los términos, donde el producto de los extremos equivale el producto de las medias.\n",
    "$$\\frac{A}{B} = \\frac{C}{D} \\text{   y   } AD = BC$$\n",
    "Lo que lleva a igualar la tasa de el primer extremo y segunda media, $A/C$, con la tasa de la primera media con el segundo extremo, $B/D$.\n",
    "$$\\frac{A}{C} = \\frac{B}{D}$$\n",
    "\n",
    "## 1.9 Alícuotas\n",
    "Una alícuota es cualquier divisor por el cuál un dividendo a sido dividido, dejando un coeficiente entero sin residuo. Por ejemplo, si dividimos 100 entre 2, 5 o 10, obtenemos 50, 20 y 10 respectivamente. También si dividimos 100 entre 11$\\frac{1}{9}$ o 6$\\frac{1}{4}$, obtenemos 9 y 16 respectivamente. Por lo tanto, todos éstos número, como el 2, 5, 10, 11$\\frac{1}{9}$ y el 6$\\frac{1}{4}$, son alícuotas de 100.\n",
    "\n",
    "Las alícuotas tienen una practicalidad especial en las finanzas.\n",
    "\n",
    "## 1.10 Exponentes\n",
    "\n",
    "Las funciones exponenciales y logarítmicas  son usadas ampliamente en finanzas y ecomonía, especialmente temas de interés compuesto, inversiones así como apreciación y depreciación de activos y muchos temas de crecimiento económico."
   ]
  }
 ],
 "metadata": {
  "kernelspec": {
   "display_name": "Python 3 (ipykernel)",
   "language": "python",
   "name": "python3"
  },
  "language_info": {
   "codemirror_mode": {
    "name": "ipython",
    "version": 3
   },
   "file_extension": ".py",
   "mimetype": "text/x-python",
   "name": "python",
   "nbconvert_exporter": "python",
   "pygments_lexer": "ipython3",
   "version": "3.10.4"
  }
 },
 "nbformat": 4,
 "nbformat_minor": 5
}
