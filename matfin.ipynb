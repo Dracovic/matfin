{
 "cells": [
  {
   "cell_type": "markdown",
   "id": "f8c2154e-98de-4490-a1c6-ae29de606c67",
   "metadata": {},
   "source": [
    "# Matemáticas Financieras\n",
    "\n",
    "\n",
    "## 1.6 Cantidad base, tasa porcentual y cantidad de porcentaje\n",
    "\n",
    "Para mejor entender porcentajes notamos 3 vairables:\n",
    "* La base ($B$), que es la cantidad total\n",
    "* La cantidad de porcentaje ($P$), que la cantidad parcial resultante de aplicar el porcentaje\n",
    "* La tasa porcentual ($R$) a la base\n",
    "\n",
    "$$P = B \\cdot R$$\n",
    "\n",
    "Ejemplo 1.6.1 Si una persona paga una tasa de 28% de impuestos en su ingreso de \\$12,850, pagaria \\$3,598 de impuesto.\n",
    "\n",
    "$B$ = 12,85, $R$ = 0.28 y $P$ es la cantidad de impuestos, que se calcularía\n",
    "$$P = 12,850 \\cdot 0.28 = 3,598$$\n",
    "También se pueden obtener $B$ y $R$ en término de las otras variables:\n",
    "$$B= \\frac{P}{R} \\qquad R= \\frac{P}{B}$$"
   ]
  },
  {
   "cell_type": "markdown",
   "id": "6dd4a801-ab8f-469d-9c5a-d17d8e610ef1",
   "metadata": {},
   "source": [
    "## 1.7 Tasa\n",
    "Una tasa es una comparación relativa entre dos valores. Matemáticamente, una tasa es representado como el coeficiente de dos números donde el número de arriba es llamado el **rimer término** y el de abajo el **segundo término**.\n",
    "$$\\frac{12}{36} = \\frac{1}{3} \\quad 1:3 \\qquad \\frac{36}{12} = \\frac{3}{1} \\quad 3:1 \\qquad A/B \\text{ or } A : B$$\n",
    "También $A:B:C:D$ para la tasa de $A$ a $B$, $B$ a $C$ y $C$ a $D$ $\\qquad \\frac{A}{B} : \\frac{B}{C} : \\frac{C}{D}$\n",
    "\n",
    "## 1.8 Proporción\n",
    "Una proporción define la igualdad entre dos tasas, como $A : B = C : D$, que se lee como $A$ es a $B$ como $C$ es a $D$. Los términos externos, $A$ y $D$ se llaman **extremos** y los internos, $B$ y $C$ se llaman **medias**.\n",
    "Escribir la proporción en una ecuación de tasas lleva a otra ecuación, obtenida por la muliplicación cruzada de los términos, donde el producto de los extremos equivale el producto de las medias.\n",
    "$$\\frac{A}{B} = \\frac{C}{D} \\text{   y   } AD = BC$$\n",
    "Lo que lleva a igualar la tasa de el primer extremo y segunda media, $A/C$, con la tasa de la primera media con el segundo extremo, $B/D$.\n",
    "$$\\frac{A}{C} = \\frac{B}{D}$$\n",
    "\n",
    "## 1.9 Alícuotas\n",
    "Una alícuota es cualquier divisor por el cuál un dividendo a sido dividido, dejando un coeficiente entero sin residuo. Por ejemplo, si dividimos 100 entre 2, 5 o 10, obtenemos 50, 20 y 10 respectivamente. También si dividimos 100 entre 11$\\frac{1}{9}$ o 6$\\frac{1}{4}$, obtenemos 9 y 16 respectivamente. Por lo tanto, todos éstos número, como el 2, 5, 10, 11$\\frac{1}{9}$ y el 6$\\frac{1}{4}$, son alícuotas de 100.\n",
    "\n",
    "Las alícuotas tienen una practicalidad especial en las finanzas.\n",
    "\n",
    "## 1.10 Exponentes\n",
    "\n",
    "Las funciones exponenciales y logarítmicas  son usadas ampliamente en finanzas y ecomonía, especialmente temas de interés compuesto, inversiones así como apreciación y depreciación de activos y muchos temas de crecimiento económico.\n",
    "$$(1+r)^n = (1+r)(1+r)...(1+r) \\quad \\text{to $n$ times}$$\n"
   ]
  },
  {
   "cell_type": "markdown",
   "id": "f44f405e-5734-4282-852f-9dbd31976f97",
   "metadata": {},
   "source": [
    "## 1.11 Leyes de los exponentes\n",
    "\n",
    "Asumiendo que $X$ es una base y que $a$ y $b$ son exponentes, donde $a\\neq0$ y $b\\neq0$, podemos resumir las **leyes de los exponentes** de la siguiente manera:\n",
    "\n",
    "$$\n",
    "\\boxed{\n",
    "\\begin{array}{c}\n",
    "X^a\\cdot X^b = X^a+b\\\\\n",
    "\\frac{X^a}{X^b} = X^{a-b}\\\\\n",
    "\\left(X^a\\right)^b = X^{ab}\\\\\n",
    "\\left(XY\\right)^a = X^a Y^a\\\\\n",
    "\\left(\\frac{X}{Y}\\right)^a = \\frac{X^a}{Y^a}\\\\\n",
    "\\frac{1}{X^a} = X^{-a}\\\\\n",
    "\\sqrt[a]{X} = X^{1/a}\\\\\n",
    "\\sqrt[a]{X^b} = X^{b/a}\\\\\n",
    "X^0=1 \\quad(X\\neq0)\\\\\n",
    "\\end{array}\n",
    "}\n",
    "$$\n",
    "\n",
    "\n",
    "## 1.12 Función Exponencial\n",
    "En una función exponencial una constante $(a)$ tiene un exponente variable $(x)$ donde $a$ tiene que ser mayor a cero pero no igual a 1. Usualmente describe una tasa de crecimiento constante y toma la forma de una ecuación para representar como una variable dependiente como $Y$ crecería de acuerdo a ciertos cambios en nua variable independiente como $x$. Ésto es,\n",
    "\n",
    "$$Y=a^x \\quad\\text{donde}\\quad a>0 \\quad\\text{pero}\\quad a\\neq1$$\n",
    "$$Y=\\left(\\frac{3}{2}\\right)^x,\\quad Y=\\left(\\frac{3}{2}\\right)^{-x},\\quad Y=4^x,\\quad Y=4^{-x}$$"
   ]
  },
  {
   "cell_type": "markdown",
   "id": "51324f53-ae43-43b6-a3e7-bdf2e3c24074",
   "metadata": {},
   "source": [
    "## 1.13 Función Exponencial Natural\n",
    "\n",
    "La **función exponencial natural** es una función donde la base $(a)$ se establece como igual a la base natural $(e)$.\n",
    "\n",
    "$$Y=a^x \\longrightarrow Y=e^x$$"
   ]
  },
  {
   "cell_type": "markdown",
   "id": "a3dbc641-10c3-49ab-8d9c-500ce81f4e6b",
   "metadata": {},
   "source": [
    "## 1.14 Leyes de exponentes naturales\n",
    "\n",
    "$$\n",
    "\\boxed{\n",
    "\\begin{array}{c}\n",
    "e^0=1\\\\\n",
    "e^1=e=2.718281828\\\\\n",
    "e^a\\cdot e^b=e^{a+b}\\\\\n",
    "\\left(e^a\\right)^b=e^{ab}\\\\\n",
    "\\frac{e^a}{e^b}=e^{a+b}\\\\\n",
    "\\end{array}\n",
    "}\n",
    "$$"
   ]
  },
  {
   "cell_type": "markdown",
   "id": "cac5f260-9402-4e84-9257-a5b1e9f961bd",
   "metadata": {},
   "source": [
    "## 1.15 Notación Científica\n",
    "\n",
    "La forma general de la **notación** científica es\n",
    "$$a(10)^x$$"
   ]
  },
  {
   "cell_type": "markdown",
   "id": "cdee990e-df74-4009-94c2-f1652c03ddff",
   "metadata": {},
   "source": [
    "## 1.16 Logaritmos\n",
    "\n",
    "Un logaritmo es un exponente especial. Ya sea un logaritmo común o un logaritmo natural. Un **logaritmo común** es un exponente al cual se debe elevar una base 10 para obtener cierto número. Por ejemplo, si ese cierto número es 15, entonces 10 se tendría que elevar a la 1.176-ava potencia para obtener 15. Esto se escribe $\\log_{10}15 = 1.176$ y se lee \"el logaritmo común de 15 es 1.176\".\n",
    "$$\\left(10\\right)^{1.176}=15$$\n",
    "\n",
    "Un **logaritmo natural** es un exponente al cual se debe elevar una base natural de  $e$ para obtener cierto número. Por ejemplo, si ese cierto número es 50, entonces $e$ (que es igual a 2.71828) tiene que ser elevado a la 3.912ma potencia para obtener 50.\n",
    "Se lee: \"el logaritmo natural de 50 es 3.912\".\n",
    "$$\\left(2.71828\\right)^{3.912}\\equiv\\log_e 50 = \\ln 50  = 3.912$$"
   ]
  },
  {
   "cell_type": "markdown",
   "id": "b4131f2f-c172-4d84-97b7-a72b6f1d91f8",
   "metadata": {},
   "source": [
    "## 1.17 Leyes de los logaritmos\n",
    "\n",
    "$$\n",
    "\\boxed{\n",
    "\\begin{array}{c}\n",
    "\\log X + \\log Y = \\log XY\\\\\n",
    "\\log X - \\log Y = \\log \\frac{X}{Y}\\\\\n",
    "\\log X^a = a \\log X\\\\\n",
    "\\log \\sqrt[a]{X} = \\log X^{1/a} = \\frac{1}{a}\\log X = \\frac{\\log X}{a}\\\\\n",
    "\\log 1 = 0\\\\\n",
    "\\log 10 = 1\\\\\n",
    "\\end{array}\n",
    "}\n",
    "$$"
   ]
  },
  {
   "cell_type": "markdown",
   "id": "9389b7e6-ac57-4f3e-9286-9a21be7722b4",
   "metadata": {},
   "source": [
    "## 1.18 La característica, la mantisa y el antilogaritmo\n",
    "\n",
    "Queda claro que $\\log 100$ es $2$ y $\\log 1,000$ es $3$ por que $100 = 10^2$ y $1,000 = 10^3$. Este hecho lleva a la conclusión que el logaritmo de cualquier número entree 100 y 1,000 tiene que se igual a algo entre 2 y 3. En otras palabras, sería 2 más una fracción (o decimal). Por ejemplo, $\\log 346$ es 2.5391, y el $\\log 973$ es 2.9881. Para encontrar el logarítmo de cualquier número como éstos, donde la potencia de 10 no es un número exacto, podemos seguir lo siguiente:\n",
    "\n",
    "1. Expresa el número en notación científica, donde\n",
    "$$N = a \\cdot 10^x \\qquad 1 < a < 10 $$\n",
    "La notación científica hace posible dividir el número en dos partes, multiplicados uno por el otro. La primera parte es representada por $a$ y la segunda parte es $10^x$.\n",
    "\n",
    "2. Usar tabla de logarítmos comunes para obtener el número del logarítmo, que seria la suma de los logatismos de las 2 partes. El logarítmo de $a$ sería llamado la **mantisa** y la potencia de 10, $x$, seria llamada la **característica**.\n",
    "$$\n",
    "\\begin{align*}\n",
    "346 &= 3.46\\left(10\\right)^2 \\\\\n",
    "\\log 346 &= \\log 3.46+\\log 10^2 \\\\\n",
    "&= \\log 3.46 + 2\\log 10 \\\\\n",
    "&= \\log 3.46 + 2 \\qquad \\text{ya que} \\quad \\log 10 = 1\\\\\n",
    "\\end{align*}\n",
    "$$\n",
    "\n",
    "Para resolver $\\log 3.46$ se consulta la tabla usando 34 para la fila y 6 para la columna. da 5391 así que el $\\log3.64 = .5391$.\n",
    "\n",
    "$$\n",
    "\\begin{align*}\n",
    "\\log 346 &= \\log 3.46 + 2 \\\\\n",
    "&= .5391 + 2 \\\\\n",
    "&= 2.5391\n",
    "\\end{align*}\n",
    "$$"
   ]
  },
  {
   "cell_type": "markdown",
   "id": "d80f2940-feab-45ad-9857-6ef8b47c23a0",
   "metadata": {},
   "source": [
    "El **antilogarítmo** es el inverso de un logarítmo. \n",
    "\n",
    "\n",
    "\n",
    "\n"
   ]
  }
 ],
 "metadata": {
  "kernelspec": {
   "display_name": "Python 3 (ipykernel)",
   "language": "python",
   "name": "python3"
  },
  "language_info": {
   "codemirror_mode": {
    "name": "ipython",
    "version": 3
   },
   "file_extension": ".py",
   "mimetype": "text/x-python",
   "name": "python",
   "nbconvert_exporter": "python",
   "pygments_lexer": "ipython3",
   "version": "3.13.0"
  }
 },
 "nbformat": 4,
 "nbformat_minor": 5
}
